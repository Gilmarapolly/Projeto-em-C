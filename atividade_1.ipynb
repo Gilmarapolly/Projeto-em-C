{
  "nbformat": 4,
  "nbformat_minor": 0,
  "metadata": {
    "colab": {
      "provenance": [],
      "toc_visible": true,
      "name": "atividade 1",
      "authorship_tag": "ABX9TyO1F8RtWchX3xFAM0nax9DM",
      "include_colab_link": true
    },
    "kernelspec": {
      "name": "python3",
      "display_name": "Python 3"
    },
    "language_info": {
      "name": "python"
    }
  },
  "cells": [
    {
      "cell_type": "markdown",
      "metadata": {
        "id": "view-in-github",
        "colab_type": "text"
      },
      "source": [
        "<a href=\"https://colab.research.google.com/github/Gilmarapolly/Projeto-em-C/blob/master/atividade_1.ipynb\" target=\"_parent\"><img src=\"https://colab.research.google.com/assets/colab-badge.svg\" alt=\"Open In Colab\"/></a>"
      ]
    },
    {
      "cell_type": "code",
      "execution_count": null,
      "metadata": {
        "id": "J1GPu-LkRnvJ"
      },
      "outputs": [],
      "source": [
        "valor_h= float(input('Quanto granha por hora? '))\n",
        "horas_trab = int(input('Horas trabalhadas por mês: '))\n",
        "\n",
        "salario_int = valor_h * horas_trab\n",
        "\n",
        "print (\"você trabalhou por\",valor_h,\"horas.\")\n",
        "print(\"O valor da horas trabalhada é de R$\",horas_trab)\n",
        "print(\"O Valor a receber é de R$\",salario_int)"
      ]
    },
    {
      "cell_type": "code",
      "source": [
        "n1 = float(input(\"Digite a primeira nota: \"))\n",
        "n2 = float(input(\"Digite a segunda nota: \"))\n",
        "n3 = float(input(\"Digite a terceira nota: \"))\n",
        "\n",
        "media = (n1 + n2 + n3) / 3\n",
        "print('Media',media)\n",
        "\n",
        "if media >= 9.0 and media < 10:\n",
        "  print('Muito Bom!')\n",
        "elif media >= 7.0 and media < 8.9:\n",
        "  print('Bom!')\n",
        "elif media >= 5.0 and media < 6.9:\n",
        " print('Recuperação')\n",
        "elif media >= 0.0 and media < 4.9:\n",
        "  print('Insuficiente.')"
      ],
      "metadata": {
        "id": "hPxp86_AVFOn"
      },
      "execution_count": null,
      "outputs": []
    },
    {
      "cell_type": "code",
      "source": [
        "salario = float(input('Informe o seu salario R$: '))\n",
        "\n",
        "valor_baixo = salario * 0.20\n",
        "baixo = salario * 1.20\n",
        "valor_medio = salario * 0.15\n",
        "medio = salario * 1.15\n",
        "valor_alto = salario * 0.10\n",
        "alto = salario * 1.10\n",
        "valor_altissimo = salario * 0.05\n",
        "altissimo = salario * 1.05\n",
        "\n",
        "print(\"Antes Reajuste: \", salario)\n",
        "\n",
        "if salario <= 280:\n",
        "   print(\"Aumento: 20%\\nValor: \", valor_baixo, \"\\nFinal: \", baixo)\n",
        "elif salario > 200 and salario <= 700: \n",
        "  print(\"Aumento: 15%\\nValor: \", valor_medio, \"\\nFinal: \", medio)\n",
        "elif salario > 700 and salario <= 1500: \n",
        "  print(\"Aumento: 10%\\nValor: \", valor_alto, \"\\nFinal: \", alto)\n",
        "else: print(\"Aumento: 5%\\nValor: \", valor_altissimo, \"\\nFinal: \", altissimo)"
      ],
      "metadata": {
        "id": "a8v5bao_47H5"
      },
      "execution_count": null,
      "outputs": []
    },
    {
      "cell_type": "code",
      "source": [
        "salario = float(input('Informe peso: '))\n",
        "salario = float(input('Informe sua altura: '))\n",
        "\n",
        "imc = (peso + alt)/2\n",
        "\n",
        "print(\"Peso: \", peso)\n",
        "\n",
        "if imc <= 18.5:\n",
        "  print ('Abaixo')\n",
        "elif imc >= 18.5 and imc <=24.9:\n",
        "  print('Peso normal')\n",
        "elif imc >= 25 and imc <= 29.9:\n",
        "  print ('Sobrepreso')\n",
        "elif imc >= 30 and imc <= 34.9:\n",
        "  print('Obseidade grau I')\n",
        "\n"
      ],
      "metadata": {
        "colab": {
          "base_uri": "https://localhost:8080/",
          "height": 269
        },
        "id": "rP5gGwIZ8iwC",
        "outputId": "15494d5f-fd23-40fc-9d78-7410ffb012b7"
      },
      "execution_count": null,
      "outputs": [
        {
          "name": "stdout",
          "output_type": "stream",
          "text": [
            "Informe peso: 50\n",
            "Informe sua altura: 170\n"
          ]
        },
        {
          "output_type": "error",
          "ename": "NameError",
          "evalue": "ignored",
          "traceback": [
            "\u001b[0;31m---------------------------------------------------------------------------\u001b[0m",
            "\u001b[0;31mNameError\u001b[0m                                 Traceback (most recent call last)",
            "\u001b[0;32m<ipython-input-3-996838c57d9d>\u001b[0m in \u001b[0;36m<module>\u001b[0;34m\u001b[0m\n\u001b[1;32m      2\u001b[0m \u001b[0msalario\u001b[0m \u001b[0;34m=\u001b[0m \u001b[0mfloat\u001b[0m\u001b[0;34m(\u001b[0m\u001b[0minput\u001b[0m\u001b[0;34m(\u001b[0m\u001b[0;34m'Informe sua altura: '\u001b[0m\u001b[0;34m)\u001b[0m\u001b[0;34m)\u001b[0m\u001b[0;34m\u001b[0m\u001b[0;34m\u001b[0m\u001b[0m\n\u001b[1;32m      3\u001b[0m \u001b[0;34m\u001b[0m\u001b[0m\n\u001b[0;32m----> 4\u001b[0;31m \u001b[0mimc\u001b[0m \u001b[0;34m=\u001b[0m \u001b[0;34m(\u001b[0m\u001b[0mpeso\u001b[0m \u001b[0;34m+\u001b[0m \u001b[0malt\u001b[0m\u001b[0;34m)\u001b[0m\u001b[0;34m/\u001b[0m\u001b[0;36m2\u001b[0m\u001b[0;34m\u001b[0m\u001b[0;34m\u001b[0m\u001b[0m\n\u001b[0m\u001b[1;32m      5\u001b[0m \u001b[0;34m\u001b[0m\u001b[0m\n\u001b[1;32m      6\u001b[0m \u001b[0mprint\u001b[0m\u001b[0;34m(\u001b[0m\u001b[0;34m\"Peso: \"\u001b[0m\u001b[0;34m,\u001b[0m \u001b[0mpeso\u001b[0m\u001b[0;34m)\u001b[0m\u001b[0;34m\u001b[0m\u001b[0;34m\u001b[0m\u001b[0m\n",
            "\u001b[0;31mNameError\u001b[0m: name 'peso' is not defined"
          ]
        }
      ]
    }
  ]
}
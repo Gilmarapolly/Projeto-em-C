{
  "nbformat": 4,
  "nbformat_minor": 0,
  "metadata": {
    "colab": {
      "provenance": [],
      "authorship_tag": "ABX9TyMzjLPAcvA00wVegt1WkYgq",
      "include_colab_link": true
    },
    "kernelspec": {
      "name": "python3",
      "display_name": "Python 3"
    },
    "language_info": {
      "name": "python"
    }
  },
  "cells": [
    {
      "cell_type": "markdown",
      "metadata": {
        "id": "view-in-github",
        "colab_type": "text"
      },
      "source": [
        "<a href=\"https://colab.research.google.com/github/Gilmarapolly/Projeto-em-C/blob/master/Untitled0.ipynb\" target=\"_parent\"><img src=\"https://colab.research.google.com/assets/colab-badge.svg\" alt=\"Open In Colab\"/></a>"
      ]
    },
    {
      "cell_type": "code",
      "execution_count": null,
      "metadata": {
        "id": "y7Ayk46Y8wKY"
      },
      "outputs": [],
      "source": [
        "# comentarios "
      ]
    },
    {
      "cell_type": "code",
      "source": [
        "# tipo de dados\n",
        "# inteiro ( inteiro)\n",
        "#float (real)\n",
        "#bool ( logico)\n",
        "#str (caractere)"
      ],
      "metadata": {
        "id": "BsnSP9rGn7zO"
      },
      "execution_count": null,
      "outputs": []
    },
    {
      "cell_type": "code",
      "source": [
        "# variaveis ( tipagem dinâmica)\n",
        "#instruções não terminam com ;\n",
        "nome = 'Gilmara'\n",
        "nome = \"Moura\"\n",
        "idade= 35\n",
        "temCnh = True # False\n",
        "altura = 1.88"
      ],
      "metadata": {
        "id": "ZCjRSO_xojqQ"
      },
      "execution_count": 29,
      "outputs": []
    },
    {
      "cell_type": "code",
      "source": [
        "#saida de dados\n",
        "print(nome)\n",
        "print(idade)\n",
        "print(temCnh)\n",
        "print(altura)"
      ],
      "metadata": {
        "colab": {
          "base_uri": "https://localhost:8080/"
        },
        "id": "JWSjF63WqnR3",
        "outputId": "68483dfd-bbc5-442b-bcdd-225d7abe9663"
      },
      "execution_count": 32,
      "outputs": [
        {
          "output_type": "stream",
          "name": "stdout",
          "text": [
            "Moura\n",
            "35\n",
            "True\n",
            "1.88\n"
          ]
        }
      ]
    },
    {
      "cell_type": "code",
      "source": [
        "#tipagem dinamica do python\n",
        "nome = 333\n",
        "print(nome)\n",
        "nome = 'Gil'\n",
        "\n",
        "#type () ==> verifica o tipo de dados de uma variavel \n",
        "print(type(nome))\n",
        "print(type(idade))\n",
        "print(type(temCnh))\n",
        "print(type(altura))"
      ],
      "metadata": {
        "colab": {
          "base_uri": "https://localhost:8080/"
        },
        "id": "YbCn76anvVCu",
        "outputId": "7d5dfffa-218a-4640-bacf-ec90d3927eb2"
      },
      "execution_count": 37,
      "outputs": [
        {
          "output_type": "stream",
          "name": "stdout",
          "text": [
            "333\n",
            "<class 'str'>\n",
            "<class 'int'>\n",
            "<class 'bool'>\n",
            "<class 'float'>\n"
          ]
        }
      ]
    },
    {
      "cell_type": "code",
      "source": [
        "# Conversãp de tipo (Casting)\n",
        "x = \"101\"\n",
        "print(x)\n",
        "print(type(x))\n",
        "\n",
        "#x = int (x)\n",
        "x = int(X) + 4\n",
        "print(x)\n",
        "print(type(x))\n",
        "\n",
        "\n",
        "x = float(x)\n",
        "print(x)\n",
        "print(type(x))\n"
      ],
      "metadata": {
        "colab": {
          "base_uri": "https://localhost:8080/"
        },
        "id": "FBxjyrUa2Jkp",
        "outputId": "61c6e38d-c0c4-4ac1-e373-e8594dd5252c"
      },
      "execution_count": 46,
      "outputs": [
        {
          "output_type": "stream",
          "name": "stdout",
          "text": [
            "101\n",
            "<class 'str'>\n",
            "105\n",
            "<class 'int'>\n",
            "105.0\n",
            "<class 'float'>\n"
          ]
        }
      ]
    },
    {
      "cell_type": "code",
      "source": [
        "# input de dados \n",
        "peso = input ('Qual o seu pese?')\n",
        "print(type(peso))"
      ],
      "metadata": {
        "colab": {
          "base_uri": "https://localhost:8080/"
        },
        "id": "Ur3B4CJVCimU",
        "outputId": "6035666a-475f-4fd1-b3e6-642e08849486"
      },
      "execution_count": 47,
      "outputs": [
        {
          "output_type": "stream",
          "name": "stdout",
          "text": [
            "Qual o seu pese?45\n",
            "<class 'str'>\n"
          ]
        }
      ]
    },
    {
      "cell_type": "code",
      "source": [
        "a = int(input('Informe o valor de A: '))\n",
        "b = float(input('Informe o valor de: '))\n",
        "\n",
        "print(type(a))\n",
        "print(type(b))"
      ],
      "metadata": {
        "colab": {
          "base_uri": "https://localhost:8080/"
        },
        "id": "NSqLljMFDhfL",
        "outputId": "cbc89148-8fa0-490d-81db-96d898e914ab"
      },
      "execution_count": 49,
      "outputs": [
        {
          "output_type": "stream",
          "name": "stdout",
          "text": [
            "Informe o valor de A: 4\n",
            "Informe o valor de: 4\n",
            "<class 'int'>\n",
            "<class 'float'>\n"
          ]
        }
      ]
    },
    {
      "cell_type": "code",
      "source": [],
      "metadata": {
        "id": "dBs63goZDgE_"
      },
      "execution_count": null,
      "outputs": []
    }
  ]
}